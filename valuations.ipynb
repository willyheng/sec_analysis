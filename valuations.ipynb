{
 "cells": [
  {
   "cell_type": "code",
   "execution_count": 7,
   "metadata": {},
   "outputs": [],
   "source": [
    "import pandas as pd, numpy as np"
   ]
  },
  {
   "cell_type": "code",
   "execution_count": 65,
   "metadata": {},
   "outputs": [
    {
     "data": {
      "text/plain": [
       "{'total_value': 77.23505454282589,\n",
       " 'book_value': 20.15,\n",
       " 'non_terminal_re': 11.196259054399437,\n",
       " 'pv_cv': 45.88879548842646}"
      ]
     },
     "execution_count": 65,
     "metadata": {},
     "output_type": "execute_result"
    }
   ],
   "source": [
    "def residual_valuation(current_book_value, earnings_forecast, dividends_forecast, required_return, long_term_growth):\n",
    "    \"\"\"Calculate the value of a stock using residual earnings valuation\n",
    "\n",
    "    Args:\n",
    "        current_book_value (float): Current book value of equity\n",
    "        earnings_forecast (list): Future projected earnings\n",
    "        dividends_forecast (list): Future projected dividends\n",
    "        required_return (float): required return on the stock in decimals\n",
    "        long_term_growth (float): Long term terminal growth rate in residual earnings\n",
    "\n",
    "    Returns:\n",
    "        dict: contains 'total_value' of firm, with its valuation components\n",
    "    \"\"\"\n",
    "    \n",
    "    df = pd.DataFrame({'earnings': [np.nan] + earnings_forecast,\n",
    "                      'dividends': [np.nan] + dividends_forecast,\n",
    "                      'book_value': [current_book_value] + [np.nan] * len(earnings_forecast)\n",
    "                      })\n",
    "    periods = len(earnings_forecast)\n",
    "    \n",
    "    for t in range(1, periods+1):\n",
    "        df['book_value'][t] = df['book_value'][t-1] + df['earnings'][t] - df['dividends'][t]\n",
    "        \n",
    "    df['charge'] = df['book_value'].shift(1) * required_return\n",
    "    df['discount_factor'] = (1+required_return)**(-1 * df.index.values)\n",
    "    df['residual_earnings'] = df['earnings'] - df['charge']\n",
    "    df['pv_re'] = df['residual_earnings'] * df['discount_factor']\n",
    "    \n",
    "    continuing_value = df['residual_earnings'].iloc[-1] * (1 + long_term_growth) / (required_return - long_term_growth)\n",
    "    pv_cv = continuing_value * df['discount_factor'].iloc[-1]\n",
    "    \n",
    "    return {'total_value': current_book_value + df['pv_re'].sum() + pv_cv,\n",
    "            'book_value': current_book_value,\n",
    "            'non_terminal_re': df['pv_re'].sum(),\n",
    "            'pv_cv': pv_cv}\n",
    "\n",
    "residual_valuation(current_book_value = 20.15, \n",
    "                   earnings_forecast = [4.29, 4.78, 5.31, 5.89, 6.54],\n",
    "                   dividends_forecast = [1.16, 1.29, 1.43, 1.59, 1.77],\n",
    "                   required_return = 0.09,\n",
    "                   long_term_growth = 0.04)"
   ]
  },
  {
   "cell_type": "code",
   "execution_count": 63,
   "metadata": {},
   "outputs": [
    {
     "data": {
      "text/plain": [
       "{'total_value': 77.23505454282589,\n",
       " 'book_value': 20.15,\n",
       " 'non_terminal_re': 11.196259054399437,\n",
       " 'pv_cv': 45.88879548842646}"
      ]
     },
     "execution_count": 63,
     "metadata": {},
     "output_type": "execute_result"
    }
   ],
   "source": []
  },
  {
   "cell_type": "code",
   "execution_count": null,
   "metadata": {},
   "outputs": [],
   "source": []
  }
 ],
 "metadata": {
  "kernelspec": {
   "display_name": "Python 3",
   "language": "python",
   "name": "python3"
  },
  "language_info": {
   "codemirror_mode": {
    "name": "ipython",
    "version": 3
   },
   "file_extension": ".py",
   "mimetype": "text/x-python",
   "name": "python",
   "nbconvert_exporter": "python",
   "pygments_lexer": "ipython3",
   "version": "3.7.4"
  }
 },
 "nbformat": 4,
 "nbformat_minor": 4
}
